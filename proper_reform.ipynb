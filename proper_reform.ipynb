{
 "cells": [
  {
   "cell_type": "code",
   "execution_count": 3,
   "metadata": {},
   "outputs": [
    {
     "name": "stderr",
     "output_type": "stream",
     "text": [
      "100%|█████████████████████████████████| 210518/210518 [2:01:41<00:00, 28.83it/s]\n"
     ]
    },
    {
     "ename": "NameError",
     "evalue": "name 'csv' is not defined",
     "output_type": "error",
     "traceback": [
      "\u001b[0;31m---------------------------------------------------------------------------\u001b[0m",
      "\u001b[0;31mNameError\u001b[0m                                 Traceback (most recent call last)",
      "Input \u001b[0;32mIn [3]\u001b[0m, in \u001b[0;36m<cell line: 23>\u001b[0;34m()\u001b[0m\n\u001b[1;32m     21\u001b[0m bz_json \u001b[38;5;241m=\u001b[39m json\u001b[38;5;241m.\u001b[39mloads(bz_json)\n\u001b[1;32m     22\u001b[0m taskfile[\u001b[38;5;124m'\u001b[39m\u001b[38;5;124m备注\u001b[39m\u001b[38;5;124m'\u001b[39m] \u001b[38;5;241m=\u001b[39m bz_json\n\u001b[0;32m---> 23\u001b[0m taskfile\u001b[38;5;241m.\u001b[39mto_csv(\u001b[38;5;124m'\u001b[39m\u001b[38;5;124m../project/proper/proper_formed.tsv\u001b[39m\u001b[38;5;124m'\u001b[39m,sep \u001b[38;5;241m=\u001b[39m \u001b[38;5;124m'\u001b[39m\u001b[38;5;130;01m\\t\u001b[39;00m\u001b[38;5;124m'\u001b[39m,index \u001b[38;5;241m=\u001b[39m \u001b[38;5;28;01mFalse\u001b[39;00m, quoting\u001b[38;5;241m=\u001b[39m\u001b[43mcsv\u001b[49m\u001b[38;5;241m.\u001b[39mQUOTE_NONE, quotechar\u001b[38;5;241m=\u001b[39m\u001b[38;5;124m\"\u001b[39m\u001b[38;5;124m\"\u001b[39m,  escapechar\u001b[38;5;241m=\u001b[39m\u001b[38;5;124m\"\u001b[39m\u001b[38;5;130;01m\\\\\u001b[39;00m\u001b[38;5;124m\"\u001b[39m)\n",
      "\u001b[0;31mNameError\u001b[0m: name 'csv' is not defined"
     ]
    }
   ],
   "source": [
    "import pandas as pd \n",
    "import json\n",
    "import demjson3\n",
    "from tqdm import tqdm\n",
    "import csv\n",
    "fileinput = pd.read_csv('../database/data/PROPER_v1.csv')\n",
    "taskfile = pd.DataFrame(columns = ['A蛋白ID','A基因名称','A基因ID','A对应转录ENST','A对应蛋白ENSP','B蛋白ID','B基因名称','B基因ID','B对应转录ENST','B对应蛋白ENSP','来源物种','细胞类型L1','细胞类型L2','作用方向','数据来源','数据来源版本'\n",
    "                                       ,'数据来源对应疾病','数据来源对应组织','可靠水平','质控状态','相互作用对象','相互作用类型','数据来源相互作用类型描述','相互作用权重','相互作用置信度','备注'])\n",
    "for u in tqdm(range(len(fileinput))):\n",
    "    i=u\n",
    "    taskfile.loc[i, 'A基因名称'] = fileinput.loc[i, 'Gene1']\n",
    "    taskfile.loc[i, 'B基因名称'] = fileinput.loc[i, 'Gene2']\n",
    "    taskfile.loc[i, '细胞类型L1'] = fileinput.loc[i, 'Cell line specificity']\n",
    "    taskfile.loc[i, '数据来源'] = 'proper'\n",
    "    taskfile.loc[i, '质控状态'] = fileinput.loc[i, 'Potential background contamination']\n",
    "    taskfile.loc[i, '相互作用对象'] = 'PPI'\n",
    "    obj = {'Odds ratio':fileinput.loc[i, 'Odds ratio'],'BH-corrected p-value':fileinput.loc[i, 'BH-corrected p-value']}\n",
    "    obj_json = demjson3.encode(obj)\n",
    "    taskfile.loc[i, '备注'] = obj_json\n",
    "##再次统一处理json的格式\n",
    "bz = taskfile['备注']\n",
    "bz_json = bz.to_json(orient='records', force_ascii=False)\n",
    "bz_json = json.loads(bz_json)\n",
    "taskfile['备注'] = bz_json\n",
    "## nan转化为None\n",
    "df = taskfile.where((taskfile.notna()),None)\n",
    "##储存不要index，去掉可能的引号\n",
    "df.to_csv('../project/proper/proper_formed.tsv',sep = '\\t',index = False, quoting=csv.QUOTE_NONE, quotechar=\"\",  escapechar=\"\\\\\")\n"
   ]
  }
 ],
 "metadata": {
  "kernelspec": {
   "display_name": "singlecell-python3.7.3",
   "language": "python",
   "name": "singlecell-python3.7.3"
  },
  "language_info": {
   "codemirror_mode": {
    "name": "ipython",
    "version": 3
   },
   "file_extension": ".py",
   "mimetype": "text/x-python",
   "name": "python",
   "nbconvert_exporter": "python",
   "pygments_lexer": "ipython3",
   "version": "3.10.4"
  }
 },
 "nbformat": 4,
 "nbformat_minor": 2
}
